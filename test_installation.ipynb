{
  "cells": [
    {
      "cell_type": "markdown",
      "metadata": {},
      "source": [
        "# Test der Installation\n",
        "\n",
        "Dieses Notebook testet die Installation der verschiedenen Komponenten für die automatische Annotation von Bauausschreibungen und Grundrissen.\n"
      ]
    },
    {
      "cell_type": "code",
      "execution_count": 1,
      "metadata": {},
      "outputs": [
        {
          "name": "stdout",
          "output_type": "stream",
          "text": [
            "Teste NumPy...\n",
            "NumPy Version: 2.3.0\n",
            "\n",
            "Teste Pandas...\n",
            "Pandas Version: 2.2.3\n",
            "\n",
            "Teste spaCy...\n",
            "spaCy Version: 3.8.7\n",
            "\n",
            "Teste pytesseract...\n",
            "Pytesseract Version: 0.3.13\n"
          ]
        }
      ],
      "source": [
        "# Teste die Bibliotheken einzeln\n",
        "print(\"Teste NumPy...\")\n",
        "import numpy as np\n",
        "print(\"NumPy Version:\", np.__version__)\n",
        "\n",
        "print(\"\\nTeste Pandas...\")\n",
        "import pandas as pd\n",
        "print(\"Pandas Version:\", pd.__version__)\n",
        "\n",
        "print(\"\\nTeste spaCy...\")\n",
        "import spacy\n",
        "print(\"spaCy Version:\", spacy.__version__)\n",
        "\n",
        "print(\"\\nTeste pytesseract...\")\n",
        "import pytesseract\n",
        "pytesseract.pytesseract.tesseract_cmd = r'C:\\Program Files\\Tesseract-OCR\\tesseract.exe'\n",
        "print(\"Pytesseract Version:\", pytesseract.__version__)\n"
      ]
    },
    {
      "cell_type": "code",
      "execution_count": 2,
      "metadata": {},
      "outputs": [
        {
          "name": "stdout",
          "output_type": "stream",
          "text": [
            "Teste weitere Bibliotheken...\n",
            "\n",
            "Teste pdf2image...\n",
            "pdf2image importiert\n",
            "\n",
            "Teste OpenCV...\n",
            "OpenCV Version: 4.10.0\n"
          ]
        }
      ],
      "source": [
        "# Teste die zusätzlichen Bibliotheken\n",
        "print(\"Teste weitere Bibliotheken...\")\n",
        "\n",
        "print(\"\\nTeste pdf2image...\")\n",
        "from pdf2image import convert_from_path\n",
        "print(\"pdf2image importiert\")\n",
        "\n",
        "print(\"\\nTeste OpenCV...\")\n",
        "import cv2\n",
        "print(\"OpenCV Version:\", cv2.__version__)\n"
      ]
    },
    {
      "cell_type": "code",
      "execution_count": 3,
      "metadata": {},
      "outputs": [
        {
          "name": "stdout",
          "output_type": "stream",
          "text": [
            "Entitäten im Text:\n",
            "\n",
            "Tokens und ihre Wortarten:\n",
            "- Die: DET\n",
            "- Wände: NOUN\n",
            "- des: DET\n",
            "- Gebäudes: NOUN\n",
            "- werden: AUX\n",
            "- in: ADP\n",
            "- Stahlbeton: PROPN\n",
            "- ausgeführt: VERB\n",
            "- .: PUNCT\n"
          ]
        }
      ],
      "source": [
        "# Teste das deutsche spaCy-Modell\n",
        "nlp = spacy.load('de_core_news_lg')\n",
        "text = \"Die Wände des Gebäudes werden in Stahlbeton ausgeführt.\"\n",
        "doc = nlp(text)\n",
        "\n",
        "print(\"Entitäten im Text:\")\n",
        "for ent in doc.ents:\n",
        "    print(f\"- {ent.text} ({ent.label_})\")\n",
        "\n",
        "print(\"\\nTokens und ihre Wortarten:\")\n",
        "for token in doc:\n",
        "    print(f\"- {token.text}: {token.pos_}\")\n"
      ]
    }
  ],
  "metadata": {
    "kernelspec": {
      "display_name": "auto_annotation",
      "language": "python",
      "name": "python3"
    },
    "language_info": {
      "codemirror_mode": {
        "name": "ipython",
        "version": 3
      },
      "file_extension": ".py",
      "mimetype": "text/x-python",
      "name": "python",
      "nbconvert_exporter": "python",
      "pygments_lexer": "ipython3",
      "version": "3.11.13"
    }
  },
  "nbformat": 4,
  "nbformat_minor": 2
}
