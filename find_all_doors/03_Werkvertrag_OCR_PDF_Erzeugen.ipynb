{
 "cells": [
  {
   "cell_type": "markdown",
   "metadata": {},
   "source": [
    "# 📘 03_Werkvertrag_OCR_PDF_Erzeugen.ipynb"
   ]
  },
  {
   "cell_type": "code",
   "execution_count": 2,
   "metadata": {},
   "outputs": [
    {
     "data": {
      "text/markdown": [
       "## 📂 Raster-PDF (z. B. Werkvertrag) hochladen:"
      ],
      "text/plain": [
       "<IPython.core.display.Markdown object>"
      ]
     },
     "metadata": {},
     "output_type": "display_data"
    },
    {
     "data": {
      "application/vnd.jupyter.widget-view+json": {
       "model_id": "3c8fbb9ebf6e45f0b3b89c7075f09793",
       "version_major": 2,
       "version_minor": 0
      },
      "text/plain": [
       "FileUpload(value=(), accept='.pdf', description='Upload')"
      ]
     },
     "metadata": {},
     "output_type": "display_data"
    },
    {
     "data": {
      "application/vnd.jupyter.widget-view+json": {
       "model_id": "d70d6b823569436aab7f2759f4990787",
       "version_major": 2,
       "version_minor": 0
      },
      "text/plain": [
       "BoundedIntText(value=1, description='Startseite:', min=1)"
      ]
     },
     "metadata": {},
     "output_type": "display_data"
    },
    {
     "data": {
      "application/vnd.jupyter.widget-view+json": {
       "model_id": "ffb0fb1a42884b738409f3de742dec23",
       "version_major": 2,
       "version_minor": 0
      },
      "text/plain": [
       "BoundedIntText(value=0, description='Endseite (0 = alle):')"
      ]
     },
     "metadata": {},
     "output_type": "display_data"
    },
    {
     "data": {
      "application/vnd.jupyter.widget-view+json": {
       "model_id": "1c4766e74b0c4ee0900452f807e771c2",
       "version_major": 2,
       "version_minor": 0
      },
      "text/plain": [
       "Dropdown(description='Seitenformat:', options=(('Originalgröße beibehalten', 'original'), ('DIN A4', (595.2755…"
      ]
     },
     "metadata": {},
     "output_type": "display_data"
    },
    {
     "data": {
      "application/vnd.jupyter.widget-view+json": {
       "model_id": "dcd1b20454d64bbda2c63c2cb85f772a",
       "version_major": 2,
       "version_minor": 0
      },
      "text/plain": [
       "Button(description='✅ OCR-PDF erzeugen', style=ButtonStyle())"
      ]
     },
     "metadata": {},
     "output_type": "display_data"
    },
    {
     "data": {
      "application/vnd.jupyter.widget-view+json": {
       "model_id": "702064195a1f49e1b5dfe11058230796",
       "version_major": 2,
       "version_minor": 0
      },
      "text/plain": [
       "Output()"
      ]
     },
     "metadata": {},
     "output_type": "display_data"
    }
   ],
   "source": [
    "# 📘 03_Werkvertrag_OCR_PDF_Erzeugen.ipynb\n",
    "\n",
    "# Schritt 1: Benötigte Bibliotheken importieren\n",
    "import pytesseract\n",
    "from pdf2image import convert_from_bytes\n",
    "from IPython.display import display, Markdown\n",
    "import ipywidgets as widgets\n",
    "from PIL import Image\n",
    "from PyPDF2 import PdfMerger, PdfReader\n",
    "import tempfile\n",
    "import os\n",
    "from tqdm.notebook import tqdm\n",
    "from io import BytesIO\n",
    "import shutil\n",
    "import subprocess\n",
    "\n",
    "# Schritt 2: Datei-Upload-Widget anzeigen\n",
    "upload = widgets.FileUpload(accept='.pdf', multiple=False)\n",
    "\n",
    "# UI anzeigen\n",
    "display(Markdown(\"## 📂 Raster-PDF (z. B. Werkvertrag) hochladen:\"))\n",
    "display(upload)\n",
    "\n",
    "# Schritt 3: PDF in durchsuchbares PDF umwandeln mit Tesseract-PDF (kompakt & durchsuchbar)\n",
    "def convert_to_searchable_pdf(uploaded_file):\n",
    "    uploaded_data = uploaded_file.value\n",
    "    if not uploaded_data:\n",
    "        return None\n",
    "\n",
    "    file_info = uploaded_data[0]\n",
    "    file_content = file_info['content']\n",
    "    original_filename = file_info['name'].rsplit('.', 1)[0]\n",
    "    file_name = original_filename + \"_durchsuchbar.pdf\"\n",
    "\n",
    "    original_pdf = PdfReader(BytesIO(file_content))\n",
    "    total_pages = len(original_pdf.pages)\n",
    "\n",
    "    with tempfile.TemporaryDirectory() as tmpdir:\n",
    "        ocr_paths = []\n",
    "        progress = tqdm(total=total_pages, desc=\"🔄 OCR Verarbeitung\", unit=\"Seite\")\n",
    "\n",
    "        for i in range(total_pages):\n",
    "            images = convert_from_bytes(file_content, dpi=300, first_page=i+1, last_page=i+1)\n",
    "            img = images[0]\n",
    "            image_path = os.path.join(tmpdir, f\"page_{i+1}.jpg\")\n",
    "            img.save(image_path, format='JPEG')\n",
    "\n",
    "            output_base = os.path.join(tmpdir, f\"ocr_page_{i+1}\")\n",
    "            subprocess.run([\n",
    "                'tesseract',\n",
    "                image_path,\n",
    "                output_base,\n",
    "                '-l', 'deu',\n",
    "                'pdf'\n",
    "            ], check=True)\n",
    "\n",
    "            output_path = output_base + '.pdf'\n",
    "            ocr_paths.append(output_path)\n",
    "            progress.update(1)\n",
    "\n",
    "        progress.close()\n",
    "\n",
    "        merger = PdfMerger()\n",
    "        for pdf in ocr_paths:\n",
    "            merger.append(pdf)\n",
    "\n",
    "        output_path = os.path.join(os.getcwd(), file_name)\n",
    "        merger.write(output_path)\n",
    "        merger.close()\n",
    "\n",
    "    return output_path\n",
    "\n",
    "# Schritt 4: Button + Ausgabe anzeigen\n",
    "button = widgets.Button(description=\"✅ OCR-PDF erzeugen\")\n",
    "output = widgets.Output()\n",
    "\n",
    "def on_click_convert(b):\n",
    "    with output:\n",
    "        output.clear_output()\n",
    "        if not upload.value:\n",
    "            print(\"Bitte zuerst eine Datei hochladen.\")\n",
    "            return\n",
    "\n",
    "        display(Markdown(\"### ⏳ Verarbeitung gestartet...\"))\n",
    "        out_pdf = convert_to_searchable_pdf(upload)\n",
    "        if out_pdf:\n",
    "            display(Markdown(f\"### 🔍 Fertig! Deine durchsuchbare PDF wurde erzeugt: **{out_pdf}**\"))\n",
    "        else:\n",
    "            print(\"Fehler beim Erzeugen der durchsuchbaren PDF.\")\n",
    "\n",
    "button.on_click(on_click_convert)\n",
    "display(button, output)\n"
   ]
  }
 ],
 "metadata": {
  "kernelspec": {
   "display_name": "auto_annotation",
   "language": "python",
   "name": "python3"
  },
  "language_info": {
   "codemirror_mode": {
    "name": "ipython",
    "version": 3
   },
   "file_extension": ".py",
   "mimetype": "text/x-python",
   "name": "python",
   "nbconvert_exporter": "python",
   "pygments_lexer": "ipython3",
   "version": "3.11.13"
  }
 },
 "nbformat": 4,
 "nbformat_minor": 2
}
