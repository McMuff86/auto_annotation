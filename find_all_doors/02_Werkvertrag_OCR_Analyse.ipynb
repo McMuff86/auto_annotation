{
 "cells": [
  {
   "cell_type": "code",
   "execution_count": 1,
   "metadata": {},
   "outputs": [
    {
     "data": {
      "text/markdown": [
       "## 📂 PDF-Datei des Werkvertrags hochladen:"
      ],
      "text/plain": [
       "<IPython.core.display.Markdown object>"
      ]
     },
     "metadata": {},
     "output_type": "display_data"
    },
    {
     "data": {
      "application/vnd.jupyter.widget-view+json": {
       "model_id": "3ecf3c692e0941e6a5bbddf12d72157b",
       "version_major": 2,
       "version_minor": 0
      },
      "text/plain": [
       "FileUpload(value=(), accept='.pdf', description='Upload')"
      ]
     },
     "metadata": {},
     "output_type": "display_data"
    },
    {
     "data": {
      "application/vnd.jupyter.widget-view+json": {
       "model_id": "784fde7d2b55487ead1a907d4f70d7b4",
       "version_major": 2,
       "version_minor": 0
      },
      "text/plain": [
       "Button(description='✅ PDF analysieren', style=ButtonStyle())"
      ]
     },
     "metadata": {},
     "output_type": "display_data"
    },
    {
     "data": {
      "application/vnd.jupyter.widget-view+json": {
       "model_id": "7a7c7b96d8b24211a933e21011a54864",
       "version_major": 2,
       "version_minor": 0
      },
      "text/plain": [
       "Output()"
      ]
     },
     "metadata": {},
     "output_type": "display_data"
    }
   ],
   "source": [
    "# 📘 02_Werkvertrag_OCR_Analyse.ipynb\n",
    "\n",
    "# Schritt 1: Benötigte Bibliotheken importieren\n",
    "import pytesseract\n",
    "from pdf2image import convert_from_bytes\n",
    "import pandas as pd\n",
    "import ipywidgets as widgets\n",
    "from IPython.display import display, Markdown\n",
    "\n",
    "# Schritt 2: Datei-Upload-Widget anzeigen\n",
    "upload = widgets.FileUpload(accept='.pdf', multiple=False)\n",
    "display(Markdown(\"## 📂 PDF-Datei des Werkvertrags hochladen:\"))\n",
    "display(upload)\n",
    "\n",
    "# Schritt 3: Funktion zur OCR-Verarbeitung definieren\n",
    "def run_ocr(uploaded_file):\n",
    "    # Die hochgeladene Datei liegt als tuple in .value vor\n",
    "    uploaded_data = uploaded_file.value\n",
    "    if not uploaded_data:\n",
    "        return \"\"\n",
    "    \n",
    "    # Hole den Inhalt aus dem Tupel\n",
    "    file_info = uploaded_data[0]  # erstes (und einziges) Element\n",
    "    file_content = file_info['content']\n",
    "    \n",
    "    # PDF-Seiten in Bilder umwandeln\n",
    "    images = convert_from_bytes(file_content)\n",
    "\n",
    "    # OCR auf jeder Seite durchführen\n",
    "    full_text = \"\"\n",
    "    for i, img in enumerate(images):\n",
    "        text = pytesseract.image_to_string(img, lang='deu')\n",
    "        full_text += f\"\\n--- Seite {i+1} ---\\n{text}\\n\"\n",
    "\n",
    "    return full_text\n",
    "\n",
    "\n",
    "# Schritt 4: Analysefunktion für Werkvertrags-Inhalte (einfaches Beispiel)\n",
    "def extract_key_data(text):\n",
    "    result = {\n",
    "        \"Vertragspartner\": \"\",\n",
    "        \"Datum\": \"\",\n",
    "        \"Werkpreis\": \"\",\n",
    "        \"Zahlungskonditionen\": \"\",\n",
    "        \"Ausführung von/bis\": \"\",\n",
    "        \"Unterschriften\": \"\"\n",
    "    }\n",
    "    \n",
    "    # Suche nach typischen Begriffen (Beispielhaft)\n",
    "    if \"Vertrag zwischen\" in text:\n",
    "        result[\"Vertragspartner\"] = text.split(\"Vertrag zwischen\",1)[1].split(\"\\n\",1)[0].strip()\n",
    "    if \"Datum\" in text:\n",
    "        result[\"Datum\"] = text.split(\"Datum\",1)[1].split(\"\\n\",1)[0].strip()\n",
    "    if \"Werkpreis\" in text:\n",
    "        result[\"Werkpreis\"] = text.split(\"Werkpreis\",1)[1].split(\"\\n\",1)[0].strip()\n",
    "    if \"Zahlung\" in text:\n",
    "        result[\"Zahlungskonditionen\"] = text.split(\"Zahlung\",1)[1].split(\"\\n\",1)[0].strip()\n",
    "    if \"Baubeginn\" in text:\n",
    "        result[\"Ausführung von/bis\"] = text.split(\"Baubeginn\",1)[1].split(\"\\n\",1)[0].strip()\n",
    "    if \"Unterschrift\" in text:\n",
    "        result[\"Unterschriften\"] = \"gefunden\"\n",
    "\n",
    "    return pd.DataFrame([result])\n",
    "\n",
    "# Schritt 5: Schaltfläche zur Ausführung anzeigen\n",
    "button = widgets.Button(description=\"✅ PDF analysieren\")\n",
    "output = widgets.Output()\n",
    "\n",
    "def on_button_clicked(b):\n",
    "    with output:\n",
    "        output.clear_output()\n",
    "        if not upload.value:\n",
    "            print(\"Bitte zuerst eine PDF-Datei hochladen.\")\n",
    "            return\n",
    "\n",
    "        print(\"Starte OCR-Verarbeitung ...\")\n",
    "        ocr_text = run_ocr(upload)\n",
    "        display(Markdown(\"### 📃 Extrahierter Text:\"))\n",
    "        display(Markdown(f\"```\\n{ocr_text[:2000]}\\n...```\"))  # Nur Vorschau\n",
    "\n",
    "        df = extract_key_data(ocr_text)\n",
    "        display(Markdown(\"### 🔍 Analyse der wichtigsten Vertragsdaten:\"))\n",
    "        display(df)\n",
    "\n",
    "        # Optional: Exportieren\n",
    "        df.to_csv(\"werkvertrag_extrahiert.csv\", index=False)\n",
    "        print(\"\\nErgebnisse gespeichert unter 'werkvertrag_extrahiert.csv'\")\n",
    "\n",
    "button.on_click(on_button_clicked)\n",
    "display(button, output)\n"
   ]
  }
 ],
 "metadata": {
  "kernelspec": {
   "display_name": "auto_annotation",
   "language": "python",
   "name": "python3"
  },
  "language_info": {
   "codemirror_mode": {
    "name": "ipython",
    "version": 3
   },
   "file_extension": ".py",
   "mimetype": "text/x-python",
   "name": "python",
   "nbconvert_exporter": "python",
   "pygments_lexer": "ipython3",
   "version": "3.11.13"
  }
 },
 "nbformat": 4,
 "nbformat_minor": 2
}
